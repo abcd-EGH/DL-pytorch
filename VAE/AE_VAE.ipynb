{
 "cells": [
  {
   "cell_type": "markdown",
   "metadata": {},
   "source": [
    "# Data Load"
   ]
  },
  {
   "cell_type": "code",
   "execution_count": 7,
   "metadata": {},
   "outputs": [
    {
     "name": "stdout",
     "output_type": "stream",
     "text": [
      "Using device: cuda\n"
     ]
    }
   ],
   "source": [
    "# 라이브러리 임포트 및 GPU 설정\n",
    "import torch\n",
    "import torch.nn as nn\n",
    "import torch.optim as optim\n",
    "from torch.utils.data import DataLoader\n",
    "from torchvision import datasets, transforms\n",
    "import matplotlib.pyplot as plt\n",
    "import numpy as np\n",
    "\n",
    "# GPU 사용 설정\n",
    "device = torch.device(\"cuda\" if torch.cuda.is_available() else \"cpu\")\n",
    "print(f\"Using device: {device}\")\n",
    "\n",
    "def normalization(tensor, min_value, max_value):\n",
    "    min_tensor = tensor.min()\n",
    "    tensor = (tensor - min_tensor)\n",
    "    max_tensor = tensor.max()\n",
    "    tensor = tensor / max_tensor\n",
    "    tensor = tensor * (max_value - min_value) + min_value\n",
    "    return tensor\n",
    "\n",
    "# value_round 함수 제거\n",
    "img_transform = transforms.Compose([\n",
    "    transforms.ToTensor(),\n",
    "    transforms.Lambda(lambda tensor: normalization(tensor, 0, 1))\n",
    "])\n",
    "\n",
    "# MNIST 데이터셋 로드\n",
    "train_dataset = datasets.MNIST(root='./MNIST_dataset', train=True, transform=img_transform, download=True)\n",
    "test_dataset = datasets.MNIST(root='./MNIST_dataset', train=False, transform=img_transform, download=True)\n",
    "\n",
    "# 데이터로더 정의\n",
    "batch_size = 1024\n",
    "train_loader = DataLoader(train_dataset, batch_size=batch_size, shuffle=True)\n",
    "test_loader = DataLoader(test_dataset, batch_size=batch_size, shuffle=False)"
   ]
  },
  {
   "cell_type": "markdown",
   "metadata": {},
   "source": [
    "# Models"
   ]
  },
  {
   "cell_type": "code",
   "execution_count": 8,
   "metadata": {},
   "outputs": [],
   "source": [
    "class Autoencoder(nn.Module):\n",
    "    def __init__(self, latent_dim=20):\n",
    "        super(Autoencoder, self).__init__()\n",
    "        # 인코더\n",
    "        self.encoder = nn.Sequential(\n",
    "            nn.Flatten(),\n",
    "            nn.Linear(28*28, 256),\n",
    "            nn.ReLU(),\n",
    "            nn.Linear(256, latent_dim)\n",
    "        )\n",
    "        # 디코더\n",
    "        self.decoder = nn.Sequential(\n",
    "            nn.Linear(latent_dim, 256),\n",
    "            nn.ReLU(),\n",
    "            nn.Linear(256, 28*28),\n",
    "            nn.Sigmoid(),\n",
    "            nn.Unflatten(1, (1, 28, 28))\n",
    "        )\n",
    "        \n",
    "    def forward(self, x):\n",
    "        z = self.encoder(x)\n",
    "        out = self.decoder(z)\n",
    "        return out\n",
    "\n",
    "class VAE(nn.Module):\n",
    "    def __init__(self, latent_dim=20):\n",
    "        super(VAE, self).__init__()\n",
    "        self.latent_dim = latent_dim\n",
    "        # 인코더\n",
    "        self.encoder = nn.Sequential(\n",
    "            nn.Flatten(),\n",
    "            nn.Linear(28*28, 256),\n",
    "            nn.ReLU(),\n",
    "            nn.Linear(256, 2*latent_dim)\n",
    "        )\n",
    "        # 디코더\n",
    "        self.decoder = nn.Sequential(\n",
    "            nn.Linear(latent_dim, 256),\n",
    "            nn.ReLU(),\n",
    "            nn.Linear(256, 28*28),\n",
    "            nn.Sigmoid(),\n",
    "            nn.Unflatten(1, (1, 28, 28))\n",
    "        )\n",
    "        \n",
    "    def encode(self, x):\n",
    "        h = self.encoder(x)\n",
    "        mu = h[:, :self.latent_dim]\n",
    "        logvar = h[:, self.latent_dim:]\n",
    "        return mu, logvar\n",
    "    \n",
    "    def reparameterize(self, mu, logvar):\n",
    "        std = torch.exp(0.5 * logvar)\n",
    "        eps = torch.randn_like(std)\n",
    "        return mu + eps * std\n",
    "    \n",
    "    def decode(self, z):\n",
    "        return self.decoder(z)\n",
    "    \n",
    "    def forward(self, x):\n",
    "        mu, logvar = self.encode(x)\n",
    "        z = self.reparameterize(mu, logvar)\n",
    "        out = self.decode(z)\n",
    "        return out, mu, logvar"
   ]
  },
  {
   "cell_type": "markdown",
   "metadata": {},
   "source": [
    "# Training Functions"
   ]
  },
  {
   "cell_type": "code",
   "execution_count": 9,
   "metadata": {},
   "outputs": [],
   "source": [
    "def train_ae(model, dataloader, epochs=20, lr=1e-3):\n",
    "    criterion = nn.MSELoss()\n",
    "    optimizer = optim.Adam(model.parameters(), lr=lr)\n",
    "    model.to(device)\n",
    "    \n",
    "    for epoch in range(epochs):\n",
    "        model.train()\n",
    "        total_loss = 0\n",
    "        for data, _ in dataloader:\n",
    "            data = data.to(device)\n",
    "            optimizer.zero_grad()\n",
    "            output = model(data)\n",
    "            loss = criterion(output, data)\n",
    "            loss.backward()\n",
    "            optimizer.step()\n",
    "            total_loss += loss.item() * data.size(0)\n",
    "        avg_loss = total_loss / len(dataloader.dataset)\n",
    "        if epoch % 10 == 0 or (epoch + 1) == epochs:\n",
    "            print(f\"AE Epoch [{epoch+1}/{epochs}], Loss: {avg_loss:.4f}\")\n",
    "\n",
    "def train_vae(model, dataloader, epochs=20, lr=1e-3, beta=1.0):\n",
    "    optimizer = optim.Adam(model.parameters(), lr=lr)\n",
    "    model.to(device)\n",
    "    \n",
    "    for epoch in range(epochs):\n",
    "        model.train()\n",
    "        total_loss = 0.0\n",
    "        total_recon = 0.0\n",
    "        total_kl = 0.0\n",
    "        for data, _ in dataloader:\n",
    "            data = data.to(device)\n",
    "            optimizer.zero_grad()\n",
    "            \n",
    "            # 모델 순전파\n",
    "            recon, mu, logvar = model(data)\n",
    "            \n",
    "            # 재구성 손실 (Mean Squared Error)\n",
    "            recon_loss = nn.functional.mse_loss(recon, data, reduction='sum')\n",
    "            \n",
    "            # KL 발산 계산\n",
    "            kl_loss = -0.5 * torch.sum(1 + logvar - mu.pow(2) - logvar.exp())\n",
    "            \n",
    "            # KL 발산 정규화: 배치 크기와 잠재 변수 차원 수로 나눔\n",
    "            batch_size = data.size(0)\n",
    "            latent_dim = mu.size(1)\n",
    "            kl_loss_normalized = kl_loss / (batch_size * latent_dim)\n",
    "            \n",
    "            # 총 손실: 재구성 손실 + beta * 정규화된 KL 발산\n",
    "            loss = recon_loss + beta * kl_loss_normalized\n",
    "            loss.backward()\n",
    "            optimizer.step()\n",
    "            \n",
    "            # 손실 누적\n",
    "            total_loss += loss.item()\n",
    "            total_recon += recon_loss.item()\n",
    "            total_kl += kl_loss_normalized.item()\n",
    "        \n",
    "        # 에포크당 평균 손실 계산\n",
    "        avg_loss = total_loss / len(dataloader.dataset)\n",
    "        avg_recon = total_recon / len(dataloader.dataset)\n",
    "        avg_kl = total_kl / len(dataloader.dataset)\n",
    "        \n",
    "        # 로그 출력: 10 에포크마다 또는 마지막 에포크에서 출력\n",
    "        if epoch % 10 == 0 or (epoch + 1) == epochs:\n",
    "            print(f\"VAE Epoch [{epoch+1}/{epochs}], Loss: {avg_loss:.4f}, Recon: {avg_recon:.4f}, KL: {avg_kl:.4f}\")\n",
    "\n",
    "# 테스트 데이터에서 두 개의 샘플 선택 (예: 클래스 1과 7)\n",
    "def get_samples(dataset, class1, class2):\n",
    "    sample1 = None\n",
    "    sample2 = None\n",
    "    for data, label in dataset:\n",
    "        if label == class1 and sample1 is None:\n",
    "            sample1 = data\n",
    "        elif label == class2 and sample2 is None:\n",
    "            sample2 = data\n",
    "        if sample1 is not None and sample2 is not None:\n",
    "            break\n",
    "    if sample1 is None or sample2 is None:\n",
    "        raise ValueError(f\"Couldn't find samples for classes {class1} and {class2}\")\n",
    "    return sample1.unsqueeze(0), sample2.unsqueeze(0)"
   ]
  },
  {
   "cell_type": "markdown",
   "metadata": {},
   "source": [
    "# Training"
   ]
  },
  {
   "cell_type": "code",
   "execution_count": 10,
   "metadata": {},
   "outputs": [
    {
     "name": "stdout",
     "output_type": "stream",
     "text": [
      "Training Autoencoder...\n",
      "AE Epoch [1/50], Loss: 0.0930\n",
      "AE Epoch [11/50], Loss: 0.0154\n",
      "AE Epoch [21/50], Loss: 0.0124\n",
      "AE Epoch [31/50], Loss: 0.0112\n",
      "AE Epoch [41/50], Loss: 0.0104\n",
      "AE Epoch [50/50], Loss: 0.0099\n",
      "\n",
      "Training Variational Autoencoder...\n",
      "VAE Epoch [1/50], Loss: 71.7351, Recon: 71.7156, KL: 0.0078\n",
      "VAE Epoch [11/50], Loss: 12.5358, Recon: 12.4847, KL: 0.0204\n",
      "VAE Epoch [21/50], Loss: 9.7948, Recon: 9.7467, KL: 0.0192\n",
      "VAE Epoch [31/50], Loss: 8.7582, Recon: 8.7117, KL: 0.0186\n",
      "VAE Epoch [41/50], Loss: 8.0507, Recon: 8.0055, KL: 0.0181\n",
      "VAE Epoch [50/50], Loss: 7.5833, Recon: 7.5392, KL: 0.0176\n"
     ]
    }
   ],
   "source": [
    "# 잠재 공간 차원, epoch 수, learning rate 설정\n",
    "latent_dim = 20\n",
    "epochs = 50\n",
    "lr = 1e-3\n",
    "beta = 2.5\n",
    "\n",
    "# AE 모델 초기화 및 학습\n",
    "ae_model = Autoencoder(latent_dim=latent_dim)\n",
    "print(\"Training Autoencoder...\")\n",
    "train_ae(ae_model, train_loader, epochs=epochs, lr=lr)\n",
    "\n",
    "# VAE 모델 초기화 및 학습\n",
    "vae_model = VAE(latent_dim=latent_dim)\n",
    "print(\"\\nTraining Variational Autoencoder...\")\n",
    "train_vae(vae_model, train_loader, epochs=epochs, lr=lr, beta=beta)\n"
   ]
  },
  {
   "cell_type": "markdown",
   "metadata": {},
   "source": [
    "# Interpolation Test"
   ]
  },
  {
   "cell_type": "code",
   "execution_count": 14,
   "metadata": {},
   "outputs": [],
   "source": [
    "def interpolate(class1, class2):\n",
    "    # 클래스 1, 2의 샘플 가져오기\n",
    "    sample1, sample2 = get_samples(test_dataset, class1=class1, class2=class2)\n",
    "    sample1, sample2 = sample1.to(device), sample2.to(device)\n",
    "\n",
    "        # 결과 시각화 함수\n",
    "    def show_samples(samples):\n",
    "        n = len(samples)\n",
    "        plt.figure(figsize=(n * 2, 2))\n",
    "        for i in range(n):\n",
    "            plt.subplot(1, n, i+1)\n",
    "            plt.imshow(samples[i].cpu().squeeze(), cmap='gray')\n",
    "            plt.axis('off')\n",
    "        plt.suptitle(f\"Sample 1 & 2(Class {class1} & {class2})\")\n",
    "        plt.show()\n",
    "\n",
    "    show_samples([sample1, sample2])\n",
    "\n",
    "    # AE 잠재 벡터 추출 (배치 차원 제거)\n",
    "    ae_model.eval()\n",
    "    with torch.no_grad():\n",
    "        z_ae1 = ae_model.encoder(sample1).cpu().numpy().squeeze(0)  # [20]\n",
    "        z_ae2 = ae_model.encoder(sample2).cpu().numpy().squeeze(0)  # [20]\n",
    "\n",
    "    # VAE 잠재 벡터 추출 (평균 벡터 사용, 배치 차원 제거)\n",
    "    vae_model.eval()\n",
    "    with torch.no_grad():\n",
    "        mu1, _ = vae_model.encode(sample1)\n",
    "        mu2, _ = vae_model.encode(sample2)\n",
    "        z_vae1 = mu1.cpu().numpy().squeeze(0)  # [20]\n",
    "        z_vae2 = mu2.cpu().numpy().squeeze(0)  # [20]\n",
    "\n",
    "    def interpolate(z1, z2, steps=5):\n",
    "        ratios = np.linspace(0, 1, steps)\n",
    "        interpolated = []\n",
    "        for ratio in ratios:\n",
    "            z = z1 * (1 - ratio) + z2 * ratio\n",
    "            interpolated.append(z)\n",
    "        return np.array(interpolated)  # [steps, latent_dim]\n",
    "\n",
    "    # AE 보간 벡터\n",
    "    interp_ae = interpolate(z_ae1, z_ae2, steps=10)\n",
    "\n",
    "    # VAE 보간 벡터\n",
    "    interp_vae = interpolate(z_vae1, z_vae2, steps=10)\n",
    "\n",
    "    # 보간된 벡터를 이미지로 복원\n",
    "    # AE 보간 이미지 생성\n",
    "    interp_ae = torch.tensor(interp_ae).float().to(device)\n",
    "    with torch.no_grad():\n",
    "        recon_ae = ae_model.decoder(interp_ae).cpu()\n",
    "\n",
    "    # VAE 보간 이미지 생성\n",
    "    interp_vae = torch.tensor(interp_vae).float().to(device)\n",
    "    with torch.no_grad():\n",
    "        recon_vae = vae_model.decode(interp_vae).cpu()\n",
    "\n",
    "    # 결과 시각화 함수\n",
    "    def show_images(images, title):\n",
    "        n = len(images)\n",
    "        plt.figure(figsize=(n * 2, 2))\n",
    "        for i in range(n):\n",
    "            plt.subplot(1, n, i+1)\n",
    "            plt.imshow(images[i].squeeze(), cmap='gray')\n",
    "            plt.axis('off')\n",
    "        plt.suptitle(title)\n",
    "        plt.show()\n",
    "\n",
    "    # AE 보간 결과 시각화\n",
    "    ae_images = recon_ae.numpy()\n",
    "    show_images(ae_images, \"AE Interpolation\")\n",
    "\n",
    "    # VAE 보간 결과 시각화\n",
    "    vae_images = recon_vae.numpy()\n",
    "    show_images(vae_images, \"VAE Interpolation\")"
   ]
  },
  {
   "cell_type": "code",
   "execution_count": 19,
   "metadata": {},
   "outputs": [
    {
     "data": {
      "image/png": "[encoded data removed]",
      "text/plain": [
       "<Figure size 400x200 with 2 Axes>"
      ]
     },
     "metadata": {},
     "output_type": "display_data"
    },
    {
     "data": {
      "image/png": "[encoded data removed]",
      "text/plain": [
       "<Figure size 2000x200 with 10 Axes>"
      ]
     },
     "metadata": {},
     "output_type": "display_data"
    },
    {
     "data": {
      "image/png": "[encoded data removed]",
      "text/plain": [
       "<Figure size 2000x200 with 10 Axes>"
      ]
     },
     "metadata": {},
     "output_type": "display_data"
    }
   ],
   "source": [
    "class1, class2 = 2, 4\n",
    "interpolate(class1, class2)"
   ]
  },
  {
   "cell_type": "code",
   "execution_count": null,
   "metadata": {},
   "outputs": [],
   "source": []
  }
 ],
 "metadata": {
  "kernelspec": {
   "display_name": "ml_env",
   "language": "python",
   "name": "python3"
  },
  "language_info": {
   "codemirror_mode": {
    "name": "ipython",
    "version": 3
   },
   "file_extension": ".py",
   "mimetype": "text/x-python",
   "name": "python",
   "nbconvert_exporter": "python",
   "pygments_lexer": "ipython3",
   "version": "3.12.7"
  }
 },
 "nbformat": 4,
 "nbformat_minor": 2
}
