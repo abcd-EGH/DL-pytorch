{
 "cells": [
  {
   "cell_type": "markdown",
   "metadata": {},
   "source": [
    "# Data Load"
   ]
  },
  {
   "cell_type": "code",
   "execution_count": 38,
   "metadata": {},
   "outputs": [
    {
     "name": "stdout",
     "output_type": "stream",
     "text": [
      "Using device: cuda\n"
     ]
    }
   ],
   "source": [
    "# 라이브러리 임포트 및 GPU 설정\n",
    "import torch\n",
    "import torch.nn as nn\n",
    "import torch.optim as optim\n",
    "from torch.utils.data import DataLoader\n",
    "from torchvision import datasets, transforms\n",
    "import matplotlib.pyplot as plt\n",
    "import numpy as np\n",
    "\n",
    "# GPU 사용 설정\n",
    "device = torch.device(\"cuda\" if torch.cuda.is_available() else \"cpu\")\n",
    "print(f\"Using device: {device}\")\n",
    "\n",
    "def normalization(tensor, min_value, max_value):\n",
    "    min_tensor = tensor.min()\n",
    "    tensor = (tensor - min_tensor)\n",
    "    max_tensor = tensor.max()\n",
    "    tensor = tensor / max_tensor\n",
    "    tensor = tensor * (max_value - min_value) + min_value\n",
    "    return tensor\n",
    "\n",
    "# value_round 함수 제거\n",
    "img_transform = transforms.Compose([\n",
    "    transforms.ToTensor(),\n",
    "    transforms.Lambda(lambda tensor: normalization(tensor, 0, 1))\n",
    "])\n",
    "\n",
    "# MNIST 데이터셋 로드\n",
    "train_dataset = datasets.MNIST(root='./MNIST_dataset', train=True, transform=img_transform, download=True)\n",
    "test_dataset = datasets.MNIST(root='./MNIST_dataset', train=False, transform=img_transform, download=True)\n",
    "\n",
    "# 데이터로더 정의\n",
    "batch_size = 1024\n",
    "train_loader = DataLoader(train_dataset, batch_size=batch_size, shuffle=True)\n",
    "test_loader = DataLoader(test_dataset, batch_size=batch_size, shuffle=False)"
   ]
  },
  {
   "cell_type": "markdown",
   "metadata": {},
   "source": [
    "# Models"
   ]
  },
  {
   "cell_type": "code",
   "execution_count": 39,
   "metadata": {},
   "outputs": [],
   "source": [
    "class Autoencoder(nn.Module):\n",
    "    def __init__(self, latent_dim=20):\n",
    "        super(Autoencoder, self).__init__()\n",
    "        # 인코더\n",
    "        self.encoder = nn.Sequential(\n",
    "            nn.Flatten(),\n",
    "            nn.Linear(28*28, 128),\n",
    "            nn.ReLU(),\n",
    "            nn.Linear(128, latent_dim)\n",
    "        )\n",
    "        # 디코더\n",
    "        self.decoder = nn.Sequential(\n",
    "            nn.Linear(latent_dim, 128),\n",
    "            nn.ReLU(),\n",
    "            nn.Linear(128, 28*28),\n",
    "            nn.Sigmoid(),\n",
    "            nn.Unflatten(1, (1, 28, 28))\n",
    "        )\n",
    "        \n",
    "    def forward(self, x):\n",
    "        z = self.encoder(x)\n",
    "        out = self.decoder(z)\n",
    "        return out\n",
    "\n",
    "class VAE(nn.Module):\n",
    "    def __init__(self, latent_dim=20):\n",
    "        super(VAE, self).__init__()\n",
    "        self.latent_dim = latent_dim\n",
    "        # 인코더\n",
    "        self.encoder = nn.Sequential(\n",
    "            nn.Flatten(),\n",
    "            nn.Linear(28*28, 128),\n",
    "            nn.ReLU(),\n",
    "            nn.Linear(128, 2*latent_dim)\n",
    "        )\n",
    "        # 디코더\n",
    "        self.decoder = nn.Sequential(\n",
    "            nn.Linear(latent_dim, 128),\n",
    "            nn.ReLU(),\n",
    "            nn.Linear(128, 28*28),\n",
    "            nn.Sigmoid(),\n",
    "            nn.Unflatten(1, (1, 28, 28))\n",
    "        )\n",
    "        \n",
    "    def encode(self, x):\n",
    "        h = self.encoder(x)\n",
    "        mu = h[:, :self.latent_dim]\n",
    "        logvar = h[:, self.latent_dim:]\n",
    "        return mu, logvar\n",
    "    \n",
    "    def reparameterize(self, mu, logvar):\n",
    "        std = torch.exp(0.5 * logvar)\n",
    "        eps = torch.randn_like(std)\n",
    "        return mu + eps * std  # eps * std + mu\n",
    "    \n",
    "    def decode(self, z):\n",
    "        return self.decoder(z)\n",
    "    \n",
    "    def forward(self, x):\n",
    "        mu, logvar = self.encode(x)\n",
    "        z = self.reparameterize(mu, logvar)\n",
    "        out = self.decode(z)\n",
    "        return out, mu, logvar"
   ]
  },
  {
   "cell_type": "markdown",
   "metadata": {},
   "source": [
    "# Training Function"
   ]
  },
  {
   "cell_type": "code",
   "execution_count": 40,
   "metadata": {},
   "outputs": [],
   "source": [
    "def train_ae(model, dataloader, epochs=20, lr=1e-3):\n",
    "    criterion = nn.MSELoss()\n",
    "    optimizer = optim.Adam(model.parameters(), lr=lr)\n",
    "    model.to(device)\n",
    "    \n",
    "    for epoch in range(epochs):\n",
    "        model.train()\n",
    "        total_loss = 0\n",
    "        for data, _ in dataloader:\n",
    "            data = data.to(device)\n",
    "            optimizer.zero_grad()\n",
    "            output = model(data)\n",
    "            loss = criterion(output, data)\n",
    "            loss.backward()\n",
    "            optimizer.step()\n",
    "            total_loss += loss.item() * data.size(0)\n",
    "        avg_loss = total_loss / len(dataloader.dataset)\n",
    "        print(f\"AE Epoch [{epoch+1}/{epochs}], Loss: {avg_loss:.4f}\")\n",
    "\n",
    "def train_vae(model, dataloader, epochs=20, lr=1e-3):\n",
    "    optimizer = optim.Adam(model.parameters(), lr=lr)\n",
    "    model.to(device)\n",
    "    \n",
    "    for epoch in range(epochs):\n",
    "        model.train()\n",
    "        total_loss = 0\n",
    "        total_recon = 0\n",
    "        total_kl = 0\n",
    "        for data, _ in dataloader:\n",
    "            data = data.to(device)\n",
    "            optimizer.zero_grad()\n",
    "            recon, mu, logvar = model(data)\n",
    "            # 재구성 손실\n",
    "            recon_loss = nn.functional.mse_loss(recon, data, reduction='sum')\n",
    "            # KL 발산\n",
    "            kl_loss = -0.5 * torch.sum(1 + logvar - mu.pow(2) - logvar.exp())\n",
    "            loss = recon_loss + kl_loss\n",
    "            loss.backward()\n",
    "            optimizer.step()\n",
    "            total_loss += loss.item()\n",
    "            total_recon += recon_loss.item()\n",
    "            total_kl += kl_loss.item()\n",
    "        avg_loss = total_loss / len(dataloader.dataset)\n",
    "        avg_recon = total_recon / len(dataloader.dataset)\n",
    "        avg_kl = total_kl / len(dataloader.dataset)\n",
    "        if epoch % 5 == 0 or (epoch + 1) == epochs:\n",
    "            print(f\"VAE Epoch [{epoch+1}/{epochs}], Loss: {avg_loss:.4f}, Recon: {avg_recon:.4f}, KL: {avg_kl:.4f}\")\n"
   ]
  },
  {
   "cell_type": "markdown",
   "metadata": {},
   "source": [
    "# Training"
   ]
  },
  {
   "cell_type": "code",
   "execution_count": 41,
   "metadata": {},
   "outputs": [
    {
     "name": "stdout",
     "output_type": "stream",
     "text": [
      "Training Autoencoder...\n",
      "AE Epoch [1/20], Loss: 0.1045\n",
      "AE Epoch [2/20], Loss: 0.0620\n",
      "AE Epoch [3/20], Loss: 0.0473\n",
      "AE Epoch [4/20], Loss: 0.0375\n",
      "AE Epoch [5/20], Loss: 0.0321\n",
      "AE Epoch [6/20], Loss: 0.0289\n",
      "AE Epoch [7/20], Loss: 0.0260\n",
      "AE Epoch [8/20], Loss: 0.0239\n",
      "AE Epoch [9/20], Loss: 0.0224\n",
      "AE Epoch [10/20], Loss: 0.0210\n",
      "AE Epoch [11/20], Loss: 0.0198\n",
      "AE Epoch [12/20], Loss: 0.0188\n",
      "AE Epoch [13/20], Loss: 0.0180\n",
      "AE Epoch [14/20], Loss: 0.0174\n",
      "AE Epoch [15/20], Loss: 0.0170\n",
      "AE Epoch [16/20], Loss: 0.0166\n",
      "AE Epoch [17/20], Loss: 0.0162\n",
      "AE Epoch [18/20], Loss: 0.0159\n",
      "AE Epoch [19/20], Loss: 0.0156\n",
      "AE Epoch [20/20], Loss: 0.0154\n",
      "\n",
      "Training Variational Autoencoder...\n",
      "VAE Epoch [1/20], Loss: 90.8560, Recon: 83.9446, KL: 6.9113\n",
      "VAE Epoch [6/20], Loss: 41.8258, Recon: 34.3395, KL: 7.4863\n",
      "VAE Epoch [11/20], Loss: 36.9243, Recon: 27.5615, KL: 9.3629\n",
      "VAE Epoch [16/20], Loss: 35.0056, Recon: 24.7371, KL: 10.2685\n",
      "VAE Epoch [20/20], Loss: 34.2073, Recon: 23.5708, KL: 10.6365\n"
     ]
    }
   ],
   "source": [
    "# 잠재 공간 차원 설정\n",
    "latent_dim = 20\n",
    "\n",
    "# epoch 수 설정\n",
    "epochs = 20\n",
    "\n",
    "# AE 모델 초기화 및 학습\n",
    "ae_model = Autoencoder(latent_dim=latent_dim)\n",
    "print(\"Training Autoencoder...\")\n",
    "train_ae(ae_model, train_loader, epochs=epochs, lr=1e-3)\n",
    "\n",
    "# VAE 모델 초기화 및 학습\n",
    "vae_model = VAE(latent_dim=latent_dim)\n",
    "print(\"\\nTraining Variational Autoencoder...\")\n",
    "train_vae(vae_model, train_loader, epochs=epochs, lr=1e-3)\n"
   ]
  },
  {
   "cell_type": "code",
   "execution_count": 46,
   "metadata": {},
   "outputs": [
    {
     "data": {
      "image/png": "[encoded data removed]",
      "text/plain": [
       "<Figure size 200x200 with 1 Axes>"
      ]
     },
     "metadata": {},
     "output_type": "display_data"
    },
    {
     "data": {
      "image/png": "[encoded data removed]",
      "text/plain": [
       "<Figure size 200x200 with 1 Axes>"
      ]
     },
     "metadata": {},
     "output_type": "display_data"
    }
   ],
   "source": [
    "# 테스트 데이터에서 두 개의 샘플 선택 (예: 클래스 1과 7)\n",
    "def get_samples(dataset, class1, class2):\n",
    "    sample1 = None\n",
    "    sample2 = None\n",
    "    for data, label in dataset:\n",
    "        if label == class1 and sample1 is None:\n",
    "            sample1 = data\n",
    "        elif label == class2 and sample2 is None:\n",
    "            sample2 = data\n",
    "        if sample1 is not None and sample2 is not None:\n",
    "            break\n",
    "    if sample1 is None or sample2 is None:\n",
    "        raise ValueError(f\"Couldn't find samples for classes {class1} and {class2}\")\n",
    "    return sample1.unsqueeze(0), sample2.unsqueeze(0)\n",
    "\n",
    "class1 = 3\n",
    "class2 = 7\n",
    "\n",
    "# 클래스 1, 2의 샘플 가져오기\n",
    "sample1, sample2 = get_samples(test_dataset, class1=class1, class2=class2)\n",
    "sample1, sample2 = sample1.to(device), sample2.to(device)\n",
    "\n",
    "# 시각화\n",
    "plt.figure(figsize=(2,2))\n",
    "plt.title(f\"Sample 1 (Class {class1})\")\n",
    "plt.imshow(sample1.cpu().squeeze(), cmap='gray')\n",
    "plt.axis('off')\n",
    "plt.show()\n",
    "\n",
    "plt.figure(figsize=(2,2))\n",
    "plt.title(f\"Sample 2 (Class {class2})\")\n",
    "plt.imshow(sample2.cpu().squeeze(), cmap='gray')\n",
    "plt.axis('off')\n",
    "plt.show()"
   ]
  },
  {
   "cell_type": "code",
   "execution_count": 47,
   "metadata": {},
   "outputs": [
    {
     "name": "stdout",
     "output_type": "stream",
     "text": [
      "interp_ae shape: (5, 20)\n",
      "interp_vae shape: (5, 20)\n",
      "interp_ae shape before decoder: torch.Size([5, 20])\n",
      "interp_vae shape before decoder: torch.Size([5, 20])\n"
     ]
    },
    {
     "data": {
      "image/png": "[encoded data removed]",
      "text/plain": [
       "<Figure size 1000x200 with 5 Axes>"
      ]
     },
     "metadata": {},
     "output_type": "display_data"
    },
    {
     "data": {
      "image/png": "[encoded data removed]",
      "text/plain": [
       "<Figure size 1000x200 with 5 Axes>"
      ]
     },
     "metadata": {},
     "output_type": "display_data"
    }
   ],
   "source": [
    "# AE 잠재 벡터 추출 (배치 차원 제거)\n",
    "ae_model.eval()\n",
    "with torch.no_grad():\n",
    "    z_ae1 = ae_model.encoder(sample1).cpu().numpy().squeeze(0)  # [20]\n",
    "    z_ae2 = ae_model.encoder(sample2).cpu().numpy().squeeze(0)  # [20]\n",
    "\n",
    "# VAE 잠재 벡터 추출 (평균 벡터 사용, 배치 차원 제거)\n",
    "vae_model.eval()\n",
    "with torch.no_grad():\n",
    "    mu1, _ = vae_model.encode(sample1)\n",
    "    mu2, _ = vae_model.encode(sample2)\n",
    "    z_vae1 = mu1.cpu().numpy().squeeze(0)  # [20]\n",
    "    z_vae2 = mu2.cpu().numpy().squeeze(0)  # [20]\n",
    "\n",
    "def interpolate(z1, z2, steps=5):\n",
    "    ratios = np.linspace(0, 1, steps)\n",
    "    interpolated = []\n",
    "    for ratio in ratios:\n",
    "        z = z1 * (1 - ratio) + z2 * ratio\n",
    "        interpolated.append(z)\n",
    "    return np.array(interpolated)  # [steps, latent_dim]\n",
    "\n",
    "# AE 보간 벡터\n",
    "interp_ae = interpolate(z_ae1, z_ae2, steps=5)\n",
    "print(f\"interp_ae shape: {interp_ae.shape}\")  # 예상: [5, 20]\n",
    "\n",
    "# VAE 보간 벡터\n",
    "interp_vae = interpolate(z_vae1, z_vae2, steps=5)\n",
    "print(f\"interp_vae shape: {interp_vae.shape}\")  # 예상: [5, 20]\n",
    "\n",
    "# 보간된 벡터를 이미지로 복원\n",
    "# AE 보간 이미지 생성\n",
    "interp_ae = torch.tensor(interp_ae).float().to(device)  # [5, 20]\n",
    "print(f\"interp_ae shape before decoder: {interp_ae.shape}\")  # 예상: [5, 20]\n",
    "with torch.no_grad():\n",
    "    recon_ae = ae_model.decoder(interp_ae).cpu()\n",
    "\n",
    "# VAE 보간 이미지 생성\n",
    "interp_vae = torch.tensor(interp_vae).float().to(device)  # [5, 20]\n",
    "print(f\"interp_vae shape before decoder: {interp_vae.shape}\")  # 예상: [5, 20]\n",
    "with torch.no_grad():\n",
    "    recon_vae = vae_model.decode(interp_vae).cpu()\n",
    "\n",
    "# 결과 시각화 함수\n",
    "def show_images(images, title):\n",
    "    n = len(images)\n",
    "    plt.figure(figsize=(n * 2, 2))\n",
    "    for i in range(n):\n",
    "        plt.subplot(1, n, i+1)\n",
    "        plt.imshow(images[i].squeeze(), cmap='gray')\n",
    "        plt.axis('off')\n",
    "    plt.suptitle(title)\n",
    "    plt.show()\n",
    "\n",
    "# AE 보간 결과 시각화\n",
    "ae_images = recon_ae.numpy()\n",
    "show_images(ae_images, \"AE Interpolation\")\n",
    "\n",
    "# VAE 보간 결과 시각화\n",
    "vae_images = recon_vae.numpy()\n",
    "show_images(vae_images, \"VAE Interpolation\")"
   ]
  },
  {
   "cell_type": "code",
   "execution_count": null,
   "metadata": {},
   "outputs": [],
   "source": []
  }
 ],
 "metadata": {
  "kernelspec": {
   "display_name": "ml_env",
   "language": "python",
   "name": "python3"
  },
  "language_info": {
   "codemirror_mode": {
    "name": "ipython",
    "version": 3
   },
   "file_extension": ".py",
   "mimetype": "text/x-python",
   "name": "python",
   "nbconvert_exporter": "python",
   "pygments_lexer": "ipython3",
   "version": "3.12.7"
  }
 },
 "nbformat": 4,
 "nbformat_minor": 2
}
