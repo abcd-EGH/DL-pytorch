{
 "cells": [
  {
   "cell_type": "markdown",
   "id": "f93c5def",
   "metadata": {},
   "source": [
    "# AutoEncoder"
   ]
  },
  {
   "cell_type": "code",
   "execution_count": 1,
   "id": "bcc56a0a",
   "metadata": {},
   "outputs": [],
   "source": [
    "import os\n",
    "import torch\n",
    "from torch import nn\n",
    "from torch.autograd import Variable\n",
    "from torch.utils.data import DataLoader\n",
    "from torchvision import transforms\n",
    "from torchvision.datasets import MNIST\n",
    "from torchvision.utils import save_image\n",
    "\n",
    "if not os.path.exists('./AE_img'):\n",
    "    os.mkdir('./AE_img')"
   ]
  },
  {
   "cell_type": "code",
   "execution_count": 4,
   "id": "2b9de687",
   "metadata": {},
   "outputs": [
    {
     "name": "stdout",
     "output_type": "stream",
     "text": [
      "Downloading http://yann.lecun.com/exdb/mnist/train-images-idx3-ubyte.gz\n",
      "Failed to download (trying next):\n",
      "HTTP Error 403: Forbidden\n",
      "\n",
      "Downloading https://ossci-datasets.s3.amazonaws.com/mnist/train-images-idx3-ubyte.gz\n",
      "Downloading https://ossci-datasets.s3.amazonaws.com/mnist/train-images-idx3-ubyte.gz to ./MNIST_dataset\\MNIST\\raw\\train-images-idx3-ubyte.gz\n"
     ]
    },
    {
     "name": "stderr",
     "output_type": "stream",
     "text": [
      "100%|██████████| 9.91M/9.91M [00:09<00:00, 1.01MB/s]\n"
     ]
    },
    {
     "name": "stdout",
     "output_type": "stream",
     "text": [
      "Extracting ./MNIST_dataset\\MNIST\\raw\\train-images-idx3-ubyte.gz to ./MNIST_dataset\\MNIST\\raw\n",
      "\n",
      "Downloading http://yann.lecun.com/exdb/mnist/train-labels-idx1-ubyte.gz\n",
      "Failed to download (trying next):\n",
      "HTTP Error 403: Forbidden\n",
      "\n",
      "Downloading https://ossci-datasets.s3.amazonaws.com/mnist/train-labels-idx1-ubyte.gz\n",
      "Downloading https://ossci-datasets.s3.amazonaws.com/mnist/train-labels-idx1-ubyte.gz to ./MNIST_dataset\\MNIST\\raw\\train-labels-idx1-ubyte.gz\n"
     ]
    },
    {
     "name": "stderr",
     "output_type": "stream",
     "text": [
      "100%|██████████| 28.9k/28.9k [00:00<00:00, 156kB/s]\n"
     ]
    },
    {
     "name": "stdout",
     "output_type": "stream",
     "text": [
      "Extracting ./MNIST_dataset\\MNIST\\raw\\train-labels-idx1-ubyte.gz to ./MNIST_dataset\\MNIST\\raw\n",
      "\n",
      "Downloading http://yann.lecun.com/exdb/mnist/t10k-images-idx3-ubyte.gz\n",
      "Failed to download (trying next):\n",
      "HTTP Error 403: Forbidden\n",
      "\n",
      "Downloading https://ossci-datasets.s3.amazonaws.com/mnist/t10k-images-idx3-ubyte.gz\n",
      "Downloading https://ossci-datasets.s3.amazonaws.com/mnist/t10k-images-idx3-ubyte.gz to ./MNIST_dataset\\MNIST\\raw\\t10k-images-idx3-ubyte.gz\n"
     ]
    },
    {
     "name": "stderr",
     "output_type": "stream",
     "text": [
      "100%|██████████| 1.65M/1.65M [00:01<00:00, 1.33MB/s]\n"
     ]
    },
    {
     "name": "stdout",
     "output_type": "stream",
     "text": [
      "Extracting ./MNIST_dataset\\MNIST\\raw\\t10k-images-idx3-ubyte.gz to ./MNIST_dataset\\MNIST\\raw\n",
      "\n",
      "Downloading http://yann.lecun.com/exdb/mnist/t10k-labels-idx1-ubyte.gz\n",
      "Failed to download (trying next):\n",
      "HTTP Error 403: Forbidden\n",
      "\n",
      "Downloading https://ossci-datasets.s3.amazonaws.com/mnist/t10k-labels-idx1-ubyte.gz\n",
      "Downloading https://ossci-datasets.s3.amazonaws.com/mnist/t10k-labels-idx1-ubyte.gz to ./MNIST_dataset\\MNIST\\raw\\t10k-labels-idx1-ubyte.gz\n"
     ]
    },
    {
     "name": "stderr",
     "output_type": "stream",
     "text": [
      "100%|██████████| 4.54k/4.54k [00:00<00:00, 4.55MB/s]"
     ]
    },
    {
     "name": "stdout",
     "output_type": "stream",
     "text": [
      "Extracting ./MNIST_dataset\\MNIST\\raw\\t10k-labels-idx1-ubyte.gz to ./MNIST_dataset\\MNIST\\raw\n",
      "\n"
     ]
    },
    {
     "name": "stderr",
     "output_type": "stream",
     "text": [
      "\n"
     ]
    }
   ],
   "source": [
    "def normalization(tensor, min_value, max_value):\n",
    "    min_tensor = tensor.min()\n",
    "    tensor = (tensor - min_tensor)\n",
    "    max_tensor = tensor.max()\n",
    "    tensor = tensor / max_tensor\n",
    "    tensor = tensor * (max_value - min_value) + min_value\n",
    "    return tensor\n",
    "\n",
    "def value_round(tensor):\n",
    "    return torch.round(tensor)\n",
    "\n",
    "def to_img(x):\n",
    "    x = x.view(x.size(0), 1, 28, 28)\n",
    "    return x\n",
    "\n",
    "img_transform = transforms.Compose([\n",
    "    transforms.ToTensor(),\n",
    "    transforms.Lambda(lambda tensor:normalization(tensor, 0, 1)),\n",
    "    transforms.Lambda(lambda tensor:value_round(tensor))\n",
    "])\n",
    "batch_size = 128\n",
    "\n",
    "dataset = MNIST('./MNIST_dataset', transform=img_transform, download=True)\n",
    "dataloader = DataLoader(dataset, batch_size=batch_size, shuffle=True)"
   ]
  },
  {
   "cell_type": "code",
   "execution_count": 9,
   "id": "91a1bd55",
   "metadata": {},
   "outputs": [],
   "source": [
    "class autoencoder(nn.Module):\n",
    "    def __init__(self):\n",
    "        super(autoencoder, self).__init__()\n",
    "        \n",
    "        self.encoder = nn.Sequential(\n",
    "            nn.Linear(28 * 28, 256),\n",
    "            nn.ReLU(True), # True means inplace, 원본 tensor를 수정하겠다는 의미\n",
    "            nn.Linear(256, 64),\n",
    "            nn.ReLU(True))\n",
    "        \n",
    "        self.decoder = nn.Sequential(\n",
    "            nn.Linear(64, 256),\n",
    "            nn.ReLU(True),\n",
    "            nn.Linear(256, 28 * 28),\n",
    "            nn.Sigmoid())\n",
    "\n",
    "    def forward(self, x):\n",
    "        x = self.encoder(x)\n",
    "        x = self.decoder(x)\n",
    "        return x"
   ]
  },
  {
   "cell_type": "code",
   "execution_count": 19,
   "id": "0ae2ac29",
   "metadata": {},
   "outputs": [
    {
     "name": "stdout",
     "output_type": "stream",
     "text": [
      "==========================================================================================\n",
      "Layer (type:depth-idx)                   Output Shape              Param #\n",
      "==========================================================================================\n",
      "├─Sequential: 1-1                        [-1, 128, 64]             --\n",
      "|    └─Linear: 2-1                       [-1, 128, 256]            200,960\n",
      "|    └─ReLU: 2-2                         [-1, 128, 256]            --\n",
      "|    └─Linear: 2-3                       [-1, 128, 64]             16,448\n",
      "|    └─ReLU: 2-4                         [-1, 128, 64]             --\n",
      "├─Sequential: 1-2                        [-1, 128, 784]            --\n",
      "|    └─Linear: 2-5                       [-1, 128, 256]            16,640\n",
      "|    └─ReLU: 2-6                         [-1, 128, 256]            --\n",
      "|    └─Linear: 2-7                       [-1, 128, 784]            201,488\n",
      "|    └─Sigmoid: 2-8                      [-1, 128, 784]            --\n",
      "==========================================================================================\n",
      "Total params: 435,536\n",
      "Trainable params: 435,536\n",
      "Non-trainable params: 0\n",
      "Total mult-adds (M): 0.87\n",
      "==========================================================================================\n",
      "Input size (MB): 0.38\n",
      "Forward/backward pass size (MB): 1.33\n",
      "Params size (MB): 1.66\n",
      "Estimated Total Size (MB): 3.37\n",
      "==========================================================================================\n"
     ]
    },
    {
     "data": {
      "text/plain": [
       "==========================================================================================\n",
       "Layer (type:depth-idx)                   Output Shape              Param #\n",
       "==========================================================================================\n",
       "├─Sequential: 1-1                        [-1, 128, 64]             --\n",
       "|    └─Linear: 2-1                       [-1, 128, 256]            200,960\n",
       "|    └─ReLU: 2-2                         [-1, 128, 256]            --\n",
       "|    └─Linear: 2-3                       [-1, 128, 64]             16,448\n",
       "|    └─ReLU: 2-4                         [-1, 128, 64]             --\n",
       "├─Sequential: 1-2                        [-1, 128, 784]            --\n",
       "|    └─Linear: 2-5                       [-1, 128, 256]            16,640\n",
       "|    └─ReLU: 2-6                         [-1, 128, 256]            --\n",
       "|    └─Linear: 2-7                       [-1, 128, 784]            201,488\n",
       "|    └─Sigmoid: 2-8                      [-1, 128, 784]            --\n",
       "==========================================================================================\n",
       "Total params: 435,536\n",
       "Trainable params: 435,536\n",
       "Non-trainable params: 0\n",
       "Total mult-adds (M): 0.87\n",
       "==========================================================================================\n",
       "Input size (MB): 0.38\n",
       "Forward/backward pass size (MB): 1.33\n",
       "Params size (MB): 1.66\n",
       "Estimated Total Size (MB): 3.37\n",
       "=========================================================================================="
      ]
     },
     "execution_count": 19,
     "metadata": {},
     "output_type": "execute_result"
    }
   ],
   "source": [
    "import torchsummary\n",
    "model = autoencoder().cuda()\n",
    "torchsummary.summary(model, input_data=(128,784))"
   ]
  },
  {
   "cell_type": "code",
   "execution_count": 11,
   "id": "37839867",
   "metadata": {},
   "outputs": [
    {
     "name": "stdout",
     "output_type": "stream",
     "text": [
      "epoch [1/50], loss:0.0343\n",
      "epoch [11/50], loss:0.0150\n",
      "epoch [21/50], loss:0.0120\n",
      "epoch [31/50], loss:0.0124\n",
      "epoch [41/50], loss:0.0107\n",
      "epoch [50/50], loss:0.0117\n"
     ]
    }
   ],
   "source": [
    "learning_rate, num_epochs = 1e-3, 50\n",
    "optimizer = torch.optim.Adam(model.parameters(),lr=learning_rate, weight_decay=1e-5)\n",
    "for epoch in range(num_epochs):\n",
    "    for data in dataloader:\n",
    "        img, _ = data\n",
    "        img = img.view(img.size(0), -1)\n",
    "        img = Variable(img).cuda()\n",
    "        \n",
    "        output = model(img)\n",
    "        MSE_loss = nn.MSELoss()(output, img)\n",
    "        \n",
    "        optimizer.zero_grad()\n",
    "        MSE_loss.backward()\n",
    "        optimizer.step()\n",
    "        \n",
    "    if epoch % 10 == 0 or epoch == 49 :\n",
    "        print('epoch [{}/{}], loss:{:.4f}'.format(epoch + 1, num_epochs, MSE_loss.item()))\n",
    "        \n",
    "        x_gt = to_img(img.cpu().data)\n",
    "        x_generated = to_img(output.cpu().data)\n",
    "        \n",
    "        save_image(x_gt, './AE_img/ground_truth_{}.png'.format(epoch))\n",
    "        save_image(x_generated, './AE_img/generated_x{}.png'.format(epoch))\n",
    "\n",
    "torch.save(model.state_dict(), './auto_encoder.pth')"
   ]
  },
  {
   "cell_type": "markdown",
   "id": "95479141",
   "metadata": {},
   "source": [
    "# Variational AutoEncoder"
   ]
  },
  {
   "cell_type": "code",
   "execution_count": 1,
   "id": "ccc0dfaa",
   "metadata": {},
   "outputs": [],
   "source": [
    "import os\n",
    "import torch\n",
    "from torch import nn\n",
    "from torch.autograd import Variable\n",
    "from torch.utils.data import DataLoader\n",
    "from torchvision import transforms\n",
    "from torchvision.datasets import MNIST\n",
    "from torchvision.utils import save_image\n",
    "import pytorch_model_summary\n",
    "\n",
    "if not os.path.exists('./VAE_img'):\n",
    "    os.mkdir('./VAE_img')"
   ]
  },
  {
   "cell_type": "code",
   "execution_count": 7,
   "id": "1dad97ea",
   "metadata": {},
   "outputs": [],
   "source": [
    "def normalization(tensor, min_value, max_value):\n",
    "    min_tensor = tensor.min()\n",
    "    tensor = (tensor - min_tensor)\n",
    "    max_tensor = tensor.max()\n",
    "    tensor = tensor / max_tensor\n",
    "    tensor = tensor * (max_value - min_value) + min_value\n",
    "    return tensor\n",
    "\n",
    "def value_round(tensor):\n",
    "    return torch.round(tensor)\n",
    "\n",
    "def to_img(x):\n",
    "    x = x.view(x.size(0), 1, 28, 28)\n",
    "    return x\n",
    "\n",
    "img_transform = transforms.Compose([\n",
    "    transforms.ToTensor(),\n",
    "    transforms.Lambda(lambda tensor:normalization(tensor, 0, 1)),\n",
    "    transforms.Lambda(lambda tensor:value_round(tensor))\n",
    "])\n",
    "batch_size = 256\n",
    "\n",
    "dataset = MNIST('./MNIST_dataset', transform=img_transform, download=True)\n",
    "dataloader = DataLoader(dataset, batch_size=batch_size, shuffle=True)"
   ]
  },
  {
   "cell_type": "code",
   "execution_count": 8,
   "id": "a4b9414c",
   "metadata": {},
   "outputs": [],
   "source": [
    "class VariationalAutoencoder(nn.Module):\n",
    "    def __init__(self):\n",
    "        super(VariationalAutoencoder, self).__init__()\n",
    "        self.encoder = nn.Sequential(\n",
    "            nn.Linear(28 * 28, 400),\n",
    "            nn.ReLU(True),\n",
    "            nn.Linear(400, 40))\n",
    "        self.decoder = nn.Sequential(\n",
    "            nn.Linear(20, 400),\n",
    "            nn.ReLU(True),\n",
    "            nn.Linear(400, 28 * 28),\n",
    "            nn.Sigmoid())\n",
    "\n",
    "    def reparametrization(self, mu, logvar):\n",
    "        var = logvar.exp()\n",
    "        std = var.sqrt()\n",
    "        eps = Variable(torch.cuda.FloatTensor(std.size()).normal_())\n",
    "        return eps.mul(std).add(mu)\n",
    "\n",
    "    def forward(self, x):\n",
    "        h = self.encoder(x)\n",
    "        mu = h[:, :20]\n",
    "        logvar = h[:, 20:]\n",
    "        z = self.reparametrization(mu, logvar)\n",
    "        x_gen = self.decoder(z)\n",
    "        return x_gen, mu, logvar\n",
    "\n",
    "    def interpolation(self, x_1, x_2, alpha):\n",
    "        traverse_1 = self.encoder(x_1)\n",
    "        traverse_2 = self.encoder(x_2)\n",
    "        mu_1, mu_2 = traverse_1[:, :20], traverse_2[:, :20]\n",
    "        logvar_1, logvar_2 = traverse_1[:, 20:], traverse_2[:, 20:]\n",
    "        traverse_m = (1 - alpha) * mu_1 + alpha * mu_2\n",
    "        traverse_logvar = (1 - alpha) * logvar_1 + alpha * logvar_2\n",
    "        z = self.reparametrization(traverse_m, traverse_logvar)\n",
    "        generated_image = self.decoder(z)\n",
    "        return generated_image"
   ]
  },
  {
   "cell_type": "code",
   "execution_count": 9,
   "id": "39617ef2",
   "metadata": {},
   "outputs": [
    {
     "name": "stdout",
     "output_type": "stream",
     "text": [
      "-----------------------------------------------------------------------\n",
      "      Layer (type)         Input Shape         Param #     Tr. Param #\n",
      "=======================================================================\n",
      "          Linear-1            [1, 784]         314,000         314,000\n",
      "            ReLU-2            [1, 400]               0               0\n",
      "          Linear-3            [1, 400]          16,040          16,040\n",
      "          Linear-4             [1, 20]           8,400           8,400\n",
      "            ReLU-5            [1, 400]               0               0\n",
      "          Linear-6            [1, 400]         314,384         314,384\n",
      "         Sigmoid-7            [1, 784]               0               0\n",
      "=======================================================================\n",
      "Total params: 652,824\n",
      "Trainable params: 652,824\n",
      "Non-trainable params: 0\n",
      "-----------------------------------------------------------------------\n"
     ]
    }
   ],
   "source": [
    "model = VariationalAutoencoder().cuda()\n",
    "print(pytorch_model_summary.summary(model, torch.zeros(1,784).cuda(), show_input = True))"
   ]
  },
  {
   "cell_type": "code",
   "execution_count": 10,
   "id": "005fe1ee",
   "metadata": {},
   "outputs": [
    {
     "name": "stdout",
     "output_type": "stream",
     "text": [
      "epoch [1/50], loss:0.1562\n",
      "epoch [11/50], loss:0.0941\n",
      "epoch [21/50], loss:0.0886\n",
      "epoch [31/50], loss:0.0841\n",
      "epoch [41/50], loss:0.0770\n",
      "epoch [50/50], loss:0.0746\n"
     ]
    }
   ],
   "source": [
    "BCE = nn.BCELoss()\n",
    "num_epochs, learning_rate = 50, 1e-3\n",
    "optimizer = torch.optim.Adam(model.parameters(), lr=learning_rate)\n",
    "for epoch in range(num_epochs):\n",
    "    for data in dataloader:\n",
    "        img, _ = data\n",
    "        img = img.view(img.size(0), -1)\n",
    "        img = Variable(img).cuda()\n",
    "        x_gen, mu, logvar = model(img)\n",
    "        NKLD = mu.pow(2).add(logvar.exp()).mul(-1).add(logvar.add(1))\n",
    "        KLD = torch.sum(NKLD).mul(-0.5)\n",
    "        KLD /= batch_size * 784\n",
    "        loss = BCE(x_gen, img) + KLD\n",
    "        \n",
    "        optimizer.zero_grad()\n",
    "        loss.backward()\n",
    "        optimizer.step()\n",
    "        \n",
    "    if epoch % 10 == 0 or (epoch+1) == num_epochs:\n",
    "        print('epoch [{}/{}], loss:{:.4f}'\n",
    "          .format(epoch + 1, num_epochs, loss.item()))\n",
    "        x_gt = to_img(img.cpu().data)\n",
    "        x_gen = to_img(x_gen.cpu().data)\n",
    "        save_image(x_gt, './VAE_img/ground_truth_{}.png'.format(epoch))\n",
    "        save_image(x_gen, './VAE_img/generated_x{}.png'.format(epoch))\n",
    "        batch = next(iter(dataloader))\n",
    "        batch = batch[0].clone().detach()\n",
    "        batch = batch.view(batch.size(0), -1)\n",
    "        batch = Variable(batch).cuda()\n",
    "        x_1 = batch[0:1]\n",
    "        x_2 = batch[1:2]\n",
    "        generated_images = []\n",
    "        for alpha in torch.arange(0.0, 1.0, 0.1):\n",
    "            generated_images.append(model.interpolation(\n",
    "                x_1, x_2, alpha))\n",
    "        generated_images = torch.cat(generated_images, 0).cpu().data\n",
    "        save_image(generated_images.view(-1, 1, 28, 28),\n",
    "                   './VAE_img/interpolation_{}.png'.format(epoch),\n",
    "                   nrow=1)\n",
    "torch.save(model.state_dict(), './variational_autoencoder.pth')"
   ]
  },
  {
   "cell_type": "code",
   "execution_count": null,
   "id": "ab85e68b",
   "metadata": {},
   "outputs": [],
   "source": []
  }
 ],
 "metadata": {
  "kernelspec": {
   "display_name": "ml_env",
   "language": "python",
   "name": "python3"
  },
  "language_info": {
   "codemirror_mode": {
    "name": "ipython",
    "version": 3
   },
   "file_extension": ".py",
   "mimetype": "text/x-python",
   "name": "python",
   "nbconvert_exporter": "python",
   "pygments_lexer": "ipython3",
   "version": "3.12.7"
  }
 },
 "nbformat": 4,
 "nbformat_minor": 5
}
